{
 "cells": [
  {
   "cell_type": "code",
   "execution_count": 1,
   "metadata": {},
   "outputs": [],
   "source": [
    "import nltk\n",
    "from nltk.corpus import stopwords \n",
    "from nltk.stem.wordnet import WordNetLemmatizer\n",
    "import string\n",
    "import gensim\n",
    "from gensim import corpora"
   ]
  },
  {
   "cell_type": "code",
   "execution_count": 5,
   "metadata": {},
   "outputs": [],
   "source": [
    "#class Topicmodelling:\n",
    "    \n",
    "    #dict={}\n",
    "stop = set(stopwords.words('english'))\n",
    "exclude = set(string.punctuation) \n",
    "lemma = WordNetLemmatizer()\n",
    "def clean(doc):\n",
    "        \n",
    "    stop_free = \" \".join([i for i in doc.lower().split() if i not in stop])\n",
    "    punc_free = ''.join(ch for ch in stop_free if ch not in exclude)\n",
    "    normalized = \" \".join(lemma.lemmatize(word) for word in punc_free.split())\n",
    "    return normalized\n",
    "        #stop_free = \" \".join([i for i in doc1.lower().split() if i not in stop])\n",
    "        #------------------\n",
    "def topic_model(path):\n",
    "    file=open(path,\"r\")  \n",
    "    f1=nltk.sent_tokenize(file.read())\n",
    "    main_doc=f1\n",
    "#     stop = set(stopwords.words('english'))\n",
    "#     exclude = set(string.punctuation) \n",
    "#     lemma = WordNetLemmatizer()\n",
    "        #print(\"Currently Cleaning\")\n",
    "        \n",
    "        #stop_free = \" \".join([i for i in doc.lower().split() if i not in stop])\n",
    "        #punc_free = ''.join(ch for ch in stop_free if ch not in exclude)\n",
    "        #normalized = \" \".join(lemma.lemmatize(word) for word in punc_free.split())\n",
    "        #return normalized\n",
    "        #stop_free = \" \".join([i for i in doc1.lower().split() if i not in stop])\n",
    "        #------------------\n",
    "\n",
    "        #int(\"Currently Stop_free\")\n",
    "        #c_free = ''.join(ch for ch in stop_free if ch not in exclude)\n",
    "        #nt(\"Currently normalized\")\n",
    "        #normalized = \" \".join(lemma.lemmatize(word) for word in punc_free.split())\n",
    "    \n",
    "        \n",
    "    doc_clean = [clean(doc).split() for doc in main_doc]  \n",
    "        #return doc_clean\n",
    "    \n",
    "    print(\"Entered doc_mat\")\n",
    "        #c=final_clean()\n",
    "        # Creating the term dictionary of our courpus, where every unique term is assigned an index. dictionary = corpora.Dictionary(doc_clean)\n",
    "    dictionary = corpora.Dictionary(doc_clean)\n",
    "        # Converting list of documents (corpus) into Document Term Matrix using dictionary prepared above.\n",
    "    doc_term_matrix = [dictionary.doc2bow(doc) for doc in doc_clean]\n",
    "        #dict=dictionary\n",
    "    print(\"Left doc_mat\")\n",
    "        #return doc_term_matrix\n",
    "    \n",
    "    Lda = gensim.models.ldamodel.LdaModel\n",
    "        #tm=Topicmodelling()\n",
    "        #d=tm.final_clean()\n",
    "        #d1=tm.doc_mat()\n",
    "    print(\"returning to call_1\")\n",
    "        # Running and Trainign LDA model on the document term matrix.\n",
    "    ldamodel = Lda(doc_term_matrix, num_topics=3, id2word = dictionary, passes=50)\n",
    "    print(\"returning to call\")\n",
    "    return ldamodel.print_topics(num_topics=3, num_words=3)"
   ]
  },
  {
   "cell_type": "code",
   "execution_count": 50,
   "metadata": {},
   "outputs": [],
   "source": [
    "from nltk import sent_tokenize\n",
    "tm=Topicmodelling()\n",
    "f=open(r\"C:\\Users\\sbali\\Desktop\\sample.txt\",\"r\")\n",
    "f1=sent_tokenize(f.read())\n",
    "#f1\n",
    "#tm.Lda_pred()\n"
   ]
  },
  {
   "cell_type": "code",
   "execution_count": 49,
   "metadata": {},
   "outputs": [
    {
     "name": "stdout",
     "output_type": "stream",
     "text": [
      "Entered doc_mat\n",
      "Left doc_mat\n",
      "returning to call_1\n",
      "returning to call\n"
     ]
    },
    {
     "data": {
      "text/plain": [
       "[(0, '0.026*\"education\" + 0.012*\"child\" + 0.012*\"care\"'),\n",
       " (1, '0.018*\"education\" + 0.014*\"music\" + 0.014*\"important\"'),\n",
       " (2, '0.012*\"people\" + 0.011*\"one\" + 0.011*\"perennialism\"')]"
      ]
     },
     "execution_count": 49,
     "metadata": {},
     "output_type": "execute_result"
    }
   ],
   "source": [
    "topic_model()"
   ]
  },
  {
   "cell_type": "code",
   "execution_count": null,
   "metadata": {},
   "outputs": [
    {
     "name": "stdout",
     "output_type": "stream",
     "text": [
      " * Serving Flask app \"__main__\" (lazy loading)\n",
      " * Environment: production\n",
      "   WARNING: Do not use the development server in a production environment.\n",
      "   Use a production WSGI server instead.\n",
      " * Debug mode: off\n"
     ]
    },
    {
     "name": "stderr",
     "output_type": "stream",
     "text": [
      " * Running on http://10.224.21.91:8005/ (Press CTRL+C to quit)\n",
      "10.224.21.91 - - [28/Jun/2019 15:26:01] \"GET / HTTP/1.1\" 200 -\n",
      "10.224.21.91 - - [28/Jun/2019 15:26:01] \"GET /favicon.ico HTTP/1.1\" 404 -\n"
     ]
    },
    {
     "name": "stdout",
     "output_type": "stream",
     "text": [
      "Entered doc_mat\n",
      "Left doc_mat\n",
      "returning to call_1\n"
     ]
    },
    {
     "name": "stderr",
     "output_type": "stream",
     "text": [
      "10.224.21.91 - - [28/Jun/2019 15:26:08] \"POST / HTTP/1.1\" 200 -\n",
      "10.224.21.91 - - [28/Jun/2019 15:26:08] \"GET /favicon.ico HTTP/1.1\" 404 -\n"
     ]
    },
    {
     "name": "stdout",
     "output_type": "stream",
     "text": [
      "returning to call\n"
     ]
    },
    {
     "name": "stderr",
     "output_type": "stream",
     "text": [
      "10.224.21.91 - - [28/Jun/2019 15:26:19] \"GET / HTTP/1.1\" 200 -\n"
     ]
    },
    {
     "name": "stdout",
     "output_type": "stream",
     "text": [
      "Entered doc_mat\n",
      "Left doc_mat\n",
      "returning to call_1\n"
     ]
    },
    {
     "name": "stderr",
     "output_type": "stream",
     "text": [
      "10.224.21.91 - - [28/Jun/2019 15:26:31] \"POST / HTTP/1.1\" 200 -\n"
     ]
    },
    {
     "name": "stdout",
     "output_type": "stream",
     "text": [
      "returning to call\n"
     ]
    },
    {
     "name": "stderr",
     "output_type": "stream",
     "text": [
      "10.135.155.8 - - [28/Jun/2019 15:26:49] \"GET / HTTP/1.1\" 200 -\n",
      "10.135.155.8 - - [28/Jun/2019 15:26:49] \"GET /favicon.ico HTTP/1.1\" 404 -\n",
      "10.135.155.8 - - [28/Jun/2019 15:26:59] \"POST / HTTP/1.1\" 200 -\n"
     ]
    },
    {
     "name": "stdout",
     "output_type": "stream",
     "text": [
      "Entered doc_mat\n",
      "Left doc_mat\n",
      "returning to call_1\n",
      "returning to call\n"
     ]
    },
    {
     "name": "stderr",
     "output_type": "stream",
     "text": [
      "10.135.155.16 - - [28/Jun/2019 15:27:47] \"GET / HTTP/1.1\" 200 -\n",
      "10.135.155.16 - - [28/Jun/2019 15:27:47] \"GET /favicon.ico HTTP/1.1\" 404 -\n",
      "[2019-06-28 15:28:51,283] ERROR in app: Exception on / [POST]\n",
      "Traceback (most recent call last):\n",
      "  File \"C:\\ProgramData\\Anaconda3\\lib\\site-packages\\flask\\app.py\", line 2292, in wsgi_app\n",
      "    response = self.full_dispatch_request()\n",
      "  File \"C:\\ProgramData\\Anaconda3\\lib\\site-packages\\flask\\app.py\", line 1815, in full_dispatch_request\n",
      "    rv = self.handle_user_exception(e)\n",
      "  File \"C:\\ProgramData\\Anaconda3\\lib\\site-packages\\flask\\app.py\", line 1718, in handle_user_exception\n",
      "    reraise(exc_type, exc_value, tb)\n",
      "  File \"C:\\ProgramData\\Anaconda3\\lib\\site-packages\\flask\\_compat.py\", line 35, in reraise\n",
      "    raise value\n",
      "  File \"C:\\ProgramData\\Anaconda3\\lib\\site-packages\\flask\\app.py\", line 1813, in full_dispatch_request\n",
      "    rv = self.dispatch_request()\n",
      "  File \"C:\\ProgramData\\Anaconda3\\lib\\site-packages\\flask\\app.py\", line 1799, in dispatch_request\n",
      "    return self.view_functions[rule.endpoint](**req.view_args)\n",
      "  File \"<ipython-input-14-3280007bf19f>\", line 20, in upload_file\n",
      "    flash('No file part')\n",
      "  File \"C:\\ProgramData\\Anaconda3\\lib\\site-packages\\flask\\helpers.py\", line 410, in flash\n",
      "    session['_flashes'] = flashes\n",
      "  File \"C:\\ProgramData\\Anaconda3\\lib\\site-packages\\werkzeug\\local.py\", line 350, in __setitem__\n",
      "    self._get_current_object()[key] = value\n",
      "  File \"C:\\ProgramData\\Anaconda3\\lib\\site-packages\\flask\\sessions.py\", line 101, in _fail\n",
      "    raise RuntimeError('The session is unavailable because no secret '\n",
      "RuntimeError: The session is unavailable because no secret key was set.  Set the secret_key on the application to something unique and secret.\n",
      "10.135.155.16 - - [28/Jun/2019 15:28:51] \"POST / HTTP/1.1\" 500 -\n",
      "10.135.155.16 - - [28/Jun/2019 15:29:00] \"POST / HTTP/1.1\" 200 -\n"
     ]
    },
    {
     "name": "stdout",
     "output_type": "stream",
     "text": [
      "Entered doc_mat\n",
      "Left doc_mat\n",
      "returning to call_1\n",
      "returning to call\n"
     ]
    },
    {
     "name": "stderr",
     "output_type": "stream",
     "text": [
      "10.224.22.45 - - [28/Jun/2019 15:32:25] \"GET / HTTP/1.1\" 200 -\n",
      "10.224.22.45 - - [28/Jun/2019 15:32:26] \"GET /favicon.ico HTTP/1.1\" 404 -\n"
     ]
    },
    {
     "name": "stdout",
     "output_type": "stream",
     "text": [
      "Entered doc_mat\n",
      "Left doc_mat\n",
      "returning to call_1\n"
     ]
    },
    {
     "name": "stderr",
     "output_type": "stream",
     "text": [
      "10.224.22.45 - - [28/Jun/2019 15:33:17] \"POST / HTTP/1.1\" 200 -\n"
     ]
    },
    {
     "name": "stdout",
     "output_type": "stream",
     "text": [
      "returning to call\n"
     ]
    },
    {
     "name": "stderr",
     "output_type": "stream",
     "text": [
      "10.133.103.55 - - [28/Jun/2019 15:34:00] \"GET / HTTP/1.1\" 200 -\n",
      "10.133.103.55 - - [28/Jun/2019 15:34:00] \"GET /favicon.ico HTTP/1.1\" 404 -\n"
     ]
    },
    {
     "name": "stdout",
     "output_type": "stream",
     "text": [
      "Entered doc_mat\n",
      "Left doc_mat\n",
      "returning to call_1\n"
     ]
    },
    {
     "name": "stderr",
     "output_type": "stream",
     "text": [
      "10.133.103.55 - - [28/Jun/2019 15:35:05] \"POST / HTTP/1.1\" 200 -\n"
     ]
    },
    {
     "name": "stdout",
     "output_type": "stream",
     "text": [
      "returning to call\n"
     ]
    }
   ],
   "source": [
    "import os\n",
    "from flask import Flask, flash, request, redirect, url_for, session\n",
    "from werkzeug.utils import secure_filename\n",
    "\n",
    "UPLOAD_FOLDER = '/Users/sbali/Desktop/upload/'\n",
    "ALLOWED_EXTENSIONS = set(['txt','ini','doc','docx'])\n",
    "#sess = session()\n",
    "app = Flask(__name__)\n",
    "app.config['UPLOAD_FOLDER'] = UPLOAD_FOLDER\n",
    "def allowed_file(filename):\n",
    "    return '.' in filename and \\\n",
    "           filename.rsplit('.', 1)[1].lower() in ALLOWED_EXTENSIONS\n",
    "\n",
    "@app.route('/', methods=['GET', 'POST'])\n",
    "def upload_file():\n",
    "    \n",
    "    if request.method == 'POST':\n",
    "        # check if the post request has the file part\n",
    "        if 'file' not in request.files:\n",
    "            flash('No file part')\n",
    "            return redirect(request.url)\n",
    "        file = request.files['file']\n",
    "        # if user does not select file, browser also\n",
    "        # submit an empty part without filename\n",
    "        if file.filename == '':\n",
    "            flash('No selected file')\n",
    "            return redirect(request.url)\n",
    "        if file and allowed_file(file.filename):\n",
    "            filename = secure_filename(file.filename)\n",
    "            #file.save(os.path.join(app.config['UPLOAD_FOLDER'], filename))\n",
    "            #config_path=UPLOAD_FOLDER+\"/\"+filename\n",
    "            data=topic_model(config_path)\n",
    "            return str(data)\n",
    "        \n",
    "        #f=open(r'C:\\Users\\sbali\\Desktop\\upload','r')\n",
    "        #f1=f.read()\n",
    "    return '''\n",
    "    <!doctype html>\n",
    "    <title>Upload new File</title>\n",
    "    <h1>Upload new File</h1>\n",
    "    <form method=post enctype=multipart/form-data>\n",
    "      <input type=file name=file>\n",
    "      <input type=submit value=Upload>\n",
    "    </form>\n",
    "    '''\n",
    "#file=open(r\"C:\\Users\\sbali\\Desktop\\upload\\\",\"r\")\n",
    "\n",
    "\n",
    "if __name__ == \"__main__\":\n",
    "#     app.config['SESSION_TYPE'] = 'memcached'\n",
    "#     app.config['SECRET_KEY'] = 'super secret key'\n",
    "    \n",
    "#     sess.init_app(app)\n",
    "\n",
    "\n",
    "    app.run(host=\"10.224.21.91\",port=8005,threaded=True)"
   ]
  },
  {
   "cell_type": "code",
   "execution_count": 2,
   "metadata": {},
   "outputs": [],
   "source": [
    "# doc1 = \"Sugar is bad to consume. My sister likes to have sugar, but not my father.\"\n",
    "# doc2 = \"My father spends a lot of time driving my sister around to dance practice.\"\n",
    "# doc3 = \"Doctors suggest that driving may cause increased stress and blood pressure.\"\n",
    "# doc4 = \"Sometimes I feel pressure to perform well at school, but my father never seems to drive my sister to do better.\"\n",
    "# doc5 = \"Health experts say that Sugar is not good for your lifestyle.\"\n",
    "\n",
    "# # compile documents\n",
    "# doc_complete = [doc1, doc2, doc3, doc4, doc5]\n",
    "# doc_complete"
   ]
  },
  {
   "cell_type": "code",
   "execution_count": 1,
   "metadata": {},
   "outputs": [],
   "source": [
    "# file.filename"
   ]
  },
  {
   "cell_type": "code",
   "execution_count": null,
   "metadata": {},
   "outputs": [],
   "source": []
  }
 ],
 "metadata": {
  "kernelspec": {
   "display_name": "Python 3",
   "language": "python",
   "name": "python3"
  },
  "language_info": {
   "codemirror_mode": {
    "name": "ipython",
    "version": 3
   },
   "file_extension": ".py",
   "mimetype": "text/x-python",
   "name": "python",
   "nbconvert_exporter": "python",
   "pygments_lexer": "ipython3",
   "version": "3.7.3"
  }
 },
 "nbformat": 4,
 "nbformat_minor": 2
}
